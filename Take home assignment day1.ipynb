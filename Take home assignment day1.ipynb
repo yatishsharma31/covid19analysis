{
 "cells": [
  {
   "cell_type": "code",
   "execution_count": 26,
   "metadata": {},
   "outputs": [
    {
     "name": "stdout",
     "output_type": "stream",
     "text": [
      "Percentage change is 2.188006482982172\n"
     ]
    }
   ],
   "source": [
    "district = \"Gwalior\"\n",
    "total_infected = 1234\n",
    "infected_on_10_june = 12\n",
    "infected_on_11_june = 2\n",
    "infected_on_12_june = 13\n",
    "infected_in_3_days = infected_on_10_june + infected_on_11_june + infected_on_12_june\n",
    "change = (infected_in_3_days/total_infected)*100\n",
    "print(\"Percentage change is {}\".format(change))"
   ]
  },
  {
   "cell_type": "code",
   "execution_count": 34,
   "metadata": {},
   "outputs": [],
   "source": [
    "#Names of the states\n",
    "list1 = [\"Andaman and Nicobar\",\"Andhra Pradesh\",\"Arunachal Pradesh\",\"Assam\",\"Bihar\",\"Chandigarh\",\"Chhattisgarh\",\"Dadra and Nagar Haveli\",\"Delhi\",\"Goa\",\"Gujarat\",\"Haryana\",\"Himachal Pradesh\",\"Jammu and kashmir\",\"Jharkhand\",\"Karnataka\",\"Kerala\",\"Ladakh\",\"Lakshadweep\",\"Maharashtra\",\"Manipur\",\"Meghalaya\",\"Mizoram\",\"Madhya Pradesh\",\"Nagaland\",\"Odisha\",\"Puducherry\",\"Punjab\",\"Rajasthan\",\"Sikkim\",\"Tamil Nadu\",\"Telengana\",\"Tripura\",\"Uttar Pradesh\",\"Uttarakhand\",\"West Bengal\"]"
   ]
  },
  {
   "cell_type": "code",
   "execution_count": 14,
   "metadata": {},
   "outputs": [
    {
     "name": "stdout",
     "output_type": "stream",
     "text": [
      "['Andaman and Nicobar', 'Andhra Pradesh', 'Arunachal Pradesh', 'Assam', 'Bihar', 'Chandigarh', 'Chhattisgarh', 'Dadra and Nagar Haveli', 'Delhi', 'Goa', 'Gujarat', 'Haryana', 'Himachal Pradesh', 'Jammu and kashmir', 'Jharkhand', 'Karnataka', 'Kerala', 'Ladakh', 'Lakshadweep', 'Maharashtra', 'Manipur', 'Meghalaya', 'Mizoram', 'Madhya Pradesh', 'Nagaland', 'Odisha', 'Puducherry', 'Punjab', 'Rajasthan', 'Sikkim', 'Tamil Nadu', 'Telengana', 'Tripura', 'Uttar Pradesh', 'Uttarakhand', 'West Bengal']\n"
     ]
    }
   ],
   "source": [
    "print(list1)"
   ]
  },
  {
   "cell_type": "code",
   "execution_count": 43,
   "metadata": {},
   "outputs": [
    {
     "name": "stdout",
     "output_type": "stream",
     "text": [
      "[100, 15252, 195, 8582, 10249, 446, 2940, 215, 89802, 1387, 33232, 14941, 979, 7695, 2521, 16514, 4593, 990, 1, 180298, 1260, 52, 160, 13861, 459, 7316, 714, 5668, 18312, 101, 94049, 17357, 1396, 24056, 2947, 19170]\n"
     ]
    }
   ],
   "source": [
    "#infected number of the states in list 1\n",
    "list2 = [100,15252,195,8582,10249,446,2940,215,89802,1387,33232,14941,979,7695,2521,16514,4593,990,1,180298,1260,52,160,13861,459,7316,714,5668,18312,101,94049,17357,1396,24056,2947,19170]\n",
    "print(list2)"
   ]
  },
  {
   "cell_type": "code",
   "execution_count": 62,
   "metadata": {},
   "outputs": [],
   "source": [
    "#number of deaths in states.\n",
    "list3=[0,\n",
    "193,\n",
    "1,\n",
    "12,\n",
    "70,\n",
    "6,\n",
    "14,\n",
    "0,      \n",
    "2803,\n",
    "4,\n",
    "1867,\n",
    "240,\n",
    "10,\n",
    "105,\n",
    "15,\n",
    "253,\n",
    "24,\n",
    "1,\n",
    "0,\n",
    "581,\n",
    "8053,\n",
    "0,\n",
    "27,\n",
    "12,\n",
    "152,\n",
    "25,\n",
    "12,\n",
    "149,\n",
    "421,\n",
    "0,\n",
    "1264,\n",
    "267,\n",
    "1,\n",
    "718,\n",
    "41,\n",
    "683,\n",
    "]"
   ]
  },
  {
   "cell_type": "code",
   "execution_count": 63,
   "metadata": {},
   "outputs": [
    {
     "name": "stdout",
     "output_type": "stream",
     "text": [
      "[0, 193, 1, 12, 70, 6, 14, 0, 2803, 4, 1867, 240, 10, 105, 15, 253, 24, 1, 0, 581, 8053, 0, 27, 12, 152, 25, 12, 149, 421, 0, 1264, 267, 1, 718, 41, 683]\n"
     ]
    }
   ],
   "source": [
    "print(list3)"
   ]
  },
  {
   "cell_type": "code",
   "execution_count": 30,
   "metadata": {},
   "outputs": [],
   "source": [
    "#number of recovered statewise\n",
    "tuples = (50,6988,66,5851,7946,367,2303,86,86,59992,670,24030,10499,614,4856,1931,8063,2439,694,0,93154,579,42,123,10655,168,5353,272,3867,14574,53,52926,8082,1093,16629,2317,12528)"
   ]
  },
  {
   "cell_type": "code",
   "execution_count": 31,
   "metadata": {},
   "outputs": [
    {
     "name": "stdout",
     "output_type": "stream",
     "text": [
      "(50, 6988, 66, 5851, 7946, 367, 2303, 86, 86, 59992, 670, 24030, 10499, 614, 4856, 1931, 8063, 2439, 694, 0, 93154, 579, 42, 123, 10655, 168, 5353, 272, 3867, 14574, 53, 52926, 8082, 1093, 16629, 2317, 12528)\n"
     ]
    }
   ],
   "source": [
    "print(tuples)"
   ]
  },
  {
   "cell_type": "code",
   "execution_count": 24,
   "metadata": {},
   "outputs": [],
   "source": [
    "dictionary = {\"Andaman and Nicobar\":100,\"Andhra Pradesh\":15252,\"Arunachal Pradesh\":195,\"Assam\":8582,\"Bihar\":10249,\"Chandigarh\":446,\"Chhattisgarh\":2940,\"Dadra and Nagar Haveli\":215,\"Delhi\":89802,\"Goa\":1387,\"Gujarat\":33232,\"Haryana\":14941,\"Himachal Pradesh\":979,\"Jammu and kashmir\":7695,\"Jharkhand\":2521,\"Karnataka\":16514,\"Kerala\":4593,\"Ladakh\":990,\"Lakshadweep\":0,\"Maharashtra\":180298,\"Manipur\":1260,\"Meghalaya\":52,\"Mizoram\":160,\"Madhya Pradesh\":13861,\"Nagaland\":459,\"Odisha\":7316,\"Puducherry\":714,\"Punjab\":5668,\"Rajasthan\":18312,\"Sikkim\":101,\"Tamil Nadu\":94049,\"Telengana\":17357,\"Tripura\":1396,\"Uttar Pradesh\":24056,\"Uttarakhand\":2947,\"West Bengal\":19170}"
   ]
  },
  {
   "cell_type": "code",
   "execution_count": 22,
   "metadata": {},
   "outputs": [
    {
     "name": "stdout",
     "output_type": "stream",
     "text": [
      "{'Andaman and Nicobar': 100, 'Andhra Pradesh': 15252, 'Arunachal Pradesh': 195, 'Assam': 8582, 'Bihar': 10249, 'Chandigarh': 446, 'Chhattisgarh': 2940, 'Dadra and Nagar Haveli': 215, 'Delhi': 89802, 'Goa': 1387, 'Gujarat': 33232, 'Haryana': 14941, 'Himachal Pradesh': 979, 'Jammu and kashmir': 7695, 'Jharkhand': 2521, 'Karnataka': 16514, 'Kerala': 4593, 'Ladakh': 990, 'Lakshadweep': 0, 'Maharashtra': 180298, 'Manipur': 1260, 'Meghalaya': 52, 'Mizoram': 160, 'Madhya Pradesh': 13861, 'Nagaland': 459, 'Odisha': 7316, 'Puducherry': 714, 'Punjab': 5668, 'Rajasthan': 18312, 'Sikkim': 101, 'Tamil Nadu': 94049, 'Telengana': 17357, 'Tripura': 1396, 'Uttar Pradesh': 24056, 'Uttarakhand': 2947, 'West Bengal': 19170}\n"
     ]
    }
   ],
   "source": [
    "print(dictionary)"
   ]
  },
  {
   "cell_type": "code",
   "execution_count": 60,
   "metadata": {},
   "outputs": [],
   "source": [
    "def ifr(infected,deaths):\n",
    "    ifr = ((deaths/infected)*100)\n",
    "    print(\"The infection fertanity rate is {}\".format(ifr))"
   ]
  },
  {
   "cell_type": "code",
   "execution_count": 64,
   "metadata": {},
   "outputs": [
    {
     "name": "stdout",
     "output_type": "stream",
     "text": [
      "The Infection fertanity rate of each states is as follows:\n",
      "Andaman and Nicobar\n",
      "The infection fertanity rate is 0.0\n",
      "Andhra Pradesh\n",
      "The infection fertanity rate is 1.2654078153684762\n",
      "Arunachal Pradesh\n",
      "The infection fertanity rate is 0.5128205128205128\n",
      "Assam\n",
      "The infection fertanity rate is 0.13982754602656725\n",
      "Bihar\n",
      "The infection fertanity rate is 0.6829934627768564\n",
      "Chandigarh\n",
      "The infection fertanity rate is 1.345291479820628\n",
      "Chhattisgarh\n",
      "The infection fertanity rate is 0.4761904761904762\n",
      "Dadra and Nagar Haveli\n",
      "The infection fertanity rate is 0.0\n",
      "Delhi\n",
      "The infection fertanity rate is 3.1213113293690564\n",
      "Goa\n",
      "The infection fertanity rate is 0.2883922134102379\n",
      "Gujarat\n",
      "The infection fertanity rate is 5.618078960038518\n",
      "Haryana\n",
      "The infection fertanity rate is 1.6063181848604513\n",
      "Himachal Pradesh\n",
      "The infection fertanity rate is 1.0214504596527068\n",
      "Jammu and kashmir\n",
      "The infection fertanity rate is 1.364522417153996\n",
      "Jharkhand\n",
      "The infection fertanity rate is 0.5950019833399445\n",
      "Karnataka\n",
      "The infection fertanity rate is 1.532033426183844\n",
      "Kerala\n",
      "The infection fertanity rate is 0.5225342913128674\n",
      "Ladakh\n",
      "The infection fertanity rate is 0.10101010101010101\n",
      "Lakshadweep\n",
      "The infection fertanity rate is 0.0\n",
      "Maharashtra\n",
      "The infection fertanity rate is 0.32224428446239006\n",
      "Manipur\n",
      "The infection fertanity rate is 639.1269841269842\n",
      "Meghalaya\n",
      "The infection fertanity rate is 0.0\n",
      "Mizoram\n",
      "The infection fertanity rate is 16.875\n",
      "Madhya Pradesh\n",
      "The infection fertanity rate is 0.0865738402712647\n",
      "Nagaland\n",
      "The infection fertanity rate is 33.11546840958606\n",
      "Odisha\n",
      "The infection fertanity rate is 0.3417167851284855\n",
      "Puducherry\n",
      "The infection fertanity rate is 1.680672268907563\n",
      "Punjab\n",
      "The infection fertanity rate is 2.6287932251235007\n",
      "Rajasthan\n",
      "The infection fertanity rate is 2.299038881607689\n",
      "Sikkim\n",
      "The infection fertanity rate is 0.0\n",
      "Tamil Nadu\n",
      "The infection fertanity rate is 1.3439802656062265\n",
      "Telengana\n",
      "The infection fertanity rate is 1.538284265714121\n",
      "Tripura\n",
      "The infection fertanity rate is 0.07163323782234957\n",
      "Uttar Pradesh\n",
      "The infection fertanity rate is 2.9847023611572996\n",
      "Uttarakhand\n",
      "The infection fertanity rate is 1.3912453342382083\n",
      "West Bengal\n",
      "The infection fertanity rate is 3.5628586332811683\n"
     ]
    }
   ],
   "source": [
    "print(\"The Infection fertanity rate of each states is as follows:\")\n",
    "for i in range(0,36):\n",
    "    print(list1[i])\n",
    "    ifr(list2[i],list3[i])"
   ]
  },
  {
   "cell_type": "code",
   "execution_count": 68,
   "metadata": {},
   "outputs": [],
   "source": [
    "#total population per state.\n",
    "list4 = [380581,49577103,1383727,31205576,104099452,1055450,25545198,585764,16787941,1458545,60439692,25351462,6864602,12267032,32988134,61095297,33406061,274000,64473,112374333,2570390,2966889,1097206,72626809,1978502,41974219,1247953,27743338,68548437,610577,72147030,35003674,3673917,199812341,10086292,91276115\n",
    "]"
   ]
  },
  {
   "cell_type": "code",
   "execution_count": 69,
   "metadata": {},
   "outputs": [
    {
     "name": "stdout",
     "output_type": "stream",
     "text": [
      "[380581, 49577103, 1383727, 31205576, 104099452, 1055450, 25545198, 585764, 16787941, 1458545, 60439692, 25351462, 6864602, 12267032, 32988134, 61095297, 33406061, 274000, 64473, 112374333, 2570390, 2966889, 1097206, 72626809, 1978502, 41974219, 1247953, 27743338, 68548437, 610577, 72147030, 35003674, 3673917, 199812341, 10086292, 91276115]\n"
     ]
    }
   ],
   "source": [
    "print(list4)"
   ]
  },
  {
   "cell_type": "code",
   "execution_count": 70,
   "metadata": {},
   "outputs": [],
   "source": [
    "#crude mortality rate\n",
    "def cmr(deaths,population):\n",
    "    cmr = ((deaths/population)*100)\n",
    "    print(\"The crude mortality rate is {}\".format(cmr))"
   ]
  },
  {
   "cell_type": "code",
   "execution_count": 72,
   "metadata": {},
   "outputs": [
    {
     "name": "stdout",
     "output_type": "stream",
     "text": [
      "The crude mortality rate of each states is as follows:\n",
      "Andaman and Nicobar\n",
      "The crude mortality rate is 0.0\n",
      "Andhra Pradesh\n",
      "The crude mortality rate is 0.0003892926135680013\n",
      "Arunachal Pradesh\n",
      "The crude mortality rate is 7.22685905529053e-05\n",
      "Assam\n",
      "The crude mortality rate is 3.8454665922526155e-05\n",
      "Bihar\n",
      "The crude mortality rate is 6.724338952331853e-05\n",
      "Chandigarh\n",
      "The crude mortality rate is 0.0005684779004216211\n",
      "Chhattisgarh\n",
      "The crude mortality rate is 5.480482085126136e-05\n",
      "Dadra and Nagar Haveli\n",
      "The crude mortality rate is 0.0\n",
      "Delhi\n",
      "The crude mortality rate is 0.01669650852358845\n",
      "Goa\n",
      "The crude mortality rate is 0.00027424590945085685\n",
      "Gujarat\n",
      "The crude mortality rate is 0.0030890296396613006\n",
      "Haryana\n",
      "The crude mortality rate is 0.0009466909640161976\n",
      "Himachal Pradesh\n",
      "The crude mortality rate is 0.00014567486942433078\n",
      "Jammu and kashmir\n",
      "The crude mortality rate is 0.000855952768363203\n",
      "Jharkhand\n",
      "The crude mortality rate is 4.547089568630951e-05\n",
      "Karnataka\n",
      "The crude mortality rate is 0.00041410716114531696\n",
      "Kerala\n",
      "The crude mortality rate is 7.184325024132596e-05\n",
      "Ladakh\n",
      "The crude mortality rate is 0.00036496350364963507\n",
      "Lakshadweep\n",
      "The crude mortality rate is 0.0\n",
      "Maharashtra\n",
      "The crude mortality rate is 0.0005170219786755041\n",
      "Manipur\n",
      "The crude mortality rate is 0.3132987601103335\n",
      "Meghalaya\n",
      "The crude mortality rate is 0.0\n",
      "Mizoram\n",
      "The crude mortality rate is 0.0024607958760706743\n",
      "Madhya Pradesh\n",
      "The crude mortality rate is 1.6522824236983894e-05\n",
      "Nagaland\n",
      "The crude mortality rate is 0.007682580052989585\n",
      "Odisha\n",
      "The crude mortality rate is 5.9560369664054974e-05\n",
      "Puducherry\n",
      "The crude mortality rate is 0.000961574674687268\n",
      "Punjab\n",
      "The crude mortality rate is 0.0005370658714535359\n",
      "Rajasthan\n",
      "The crude mortality rate is 0.0006141642587707725\n",
      "Sikkim\n",
      "The crude mortality rate is 0.0\n",
      "Tamil Nadu\n",
      "The crude mortality rate is 0.0017519778707453376\n",
      "Telengana\n",
      "The crude mortality rate is 0.0007627770730581024\n",
      "Tripura\n",
      "The crude mortality rate is 2.7218905598575034e-05\n",
      "Uttar Pradesh\n",
      "The crude mortality rate is 0.00035933716426454364\n",
      "Uttarakhand\n",
      "The crude mortality rate is 0.00040649229667354467\n",
      "West Bengal\n",
      "The crude mortality rate is 0.0007482789993855457\n"
     ]
    }
   ],
   "source": [
    "print(\"The crude mortality rate of each states is as follows:\")\n",
    "for i in range(0,36):\n",
    "    print(list1[i])\n",
    "    cmr(list3[i],list4[i])"
   ]
  },
  {
   "cell_type": "code",
   "execution_count": null,
   "metadata": {},
   "outputs": [],
   "source": []
  }
 ],
 "metadata": {
  "kernelspec": {
   "display_name": "Python 3",
   "language": "python",
   "name": "python3"
  },
  "language_info": {
   "codemirror_mode": {
    "name": "ipython",
    "version": 3
   },
   "file_extension": ".py",
   "mimetype": "text/x-python",
   "name": "python",
   "nbconvert_exporter": "python",
   "pygments_lexer": "ipython3",
   "version": "3.7.0"
  }
 },
 "nbformat": 4,
 "nbformat_minor": 2
}
