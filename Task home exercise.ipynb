{
 "cells": [
  {
   "cell_type": "code",
   "execution_count": 26,
   "metadata": {},
   "outputs": [
    {
     "name": "stdout",
     "output_type": "stream",
     "text": [
      "Percentage change is 2.188006482982172\n"
     ]
    }
   ],
   "source": [
    "district = \"Gwalior\"\n",
    "total_infected = 1234\n",
    "infected_on_10_june = 12\n",
    "infected_on_11_june = 2\n",
    "infected_on_12_june = 13\n",
    "infected_in_3_days = infected_on_10_june + infected_on_11_june + infected_on_12_june\n",
    "change = (infected_in_3_days/total_infected)*100\n",
    "print(\"Percentage change is {}\".format(change))"
   ]
  },
  {
   "cell_type": "code",
   "execution_count": 13,
   "metadata": {},
   "outputs": [],
   "source": [
    "#Names of the states\n",
    "list1 = [\"Andaman and Nicobar\",\"Andhra Pradesh\",\"Arunachal Pradesh\",\"Assam\",\"Bihar\",\"Chandigarh\",\"Chhattisgarh\",\"Dadra and Nagar Haveli\",\"Delhi\",\"Goa\",\"Gujarat\",\"Haryana\",\"Himachal Pradesh\",\"Jammu and kashmir\",\"Jharkhand\",\"Karnataka\",\"Kerala\",\"Ladakh\",\"Lakshadweep\",\"Maharashtra\",\"Manipur\",\"Meghalaya\",\"Mizoram\",\"Madhya Pradesh\",\"Nagaland\",\"Odisha\",\"Puducherry\",\"Punjab\",\"Rajasthan\",\"Sikkim\",\"Tamil Nadu\",\"Telengana\",\"Tripura\",\"Uttar Pradesh\",\"Uttarakhand\",\"West Bengal\"]"
   ]
  },
  {
   "cell_type": "code",
   "execution_count": 14,
   "metadata": {},
   "outputs": [
    {
     "name": "stdout",
     "output_type": "stream",
     "text": [
      "['Andaman and Nicobar', 'Andhra Pradesh', 'Arunachal Pradesh', 'Assam', 'Bihar', 'Chandigarh', 'Chhattisgarh', 'Dadra and Nagar Haveli', 'Delhi', 'Goa', 'Gujarat', 'Haryana', 'Himachal Pradesh', 'Jammu and kashmir', 'Jharkhand', 'Karnataka', 'Kerala', 'Ladakh', 'Lakshadweep', 'Maharashtra', 'Manipur', 'Meghalaya', 'Mizoram', 'Madhya Pradesh', 'Nagaland', 'Odisha', 'Puducherry', 'Punjab', 'Rajasthan', 'Sikkim', 'Tamil Nadu', 'Telengana', 'Tripura', 'Uttar Pradesh', 'Uttarakhand', 'West Bengal']\n"
     ]
    }
   ],
   "source": [
    "print(list1)"
   ]
  },
  {
   "cell_type": "code",
   "execution_count": 20,
   "metadata": {},
   "outputs": [
    {
     "name": "stdout",
     "output_type": "stream",
     "text": [
      "[100, 15252, 195, 8582, 10249, 446, 2940, 215, 89802, 1387, 33232, 14941, 979, 7695, 2521, 16514, 4593, 990, 0, 180298, 1260, 52, 160, 13861, 459, 7316, 714, 5668, 18312, 101, 94049, 17357, 1396, 24056, 2947, 19170]\n"
     ]
    }
   ],
   "source": [
    "#infected number of the states in list 1\n",
    "list2 = [100,15252,195,8582,10249,446,2940,215,89802,1387,33232,14941,979,7695,2521,16514,4593,990,0,180298,1260,52,160,13861,459,7316,714,5668,18312,101,94049,17357,1396,24056,2947,19170]\n",
    "print(list2)"
   ]
  },
  {
   "cell_type": "code",
   "execution_count": 16,
   "metadata": {},
   "outputs": [],
   "source": [
    "#number of recovered statewise\n",
    "tuples = (50,6988,66,5851,7946,367,2303,86,86,59992,670,24030,10499,614,4856,1931,8063,2439,694,0,93154,579,42,123,10655,168,5353,272,3867,14574,53,52926,8082,1093,16629,2317,12528)"
   ]
  },
  {
   "cell_type": "code",
   "execution_count": 17,
   "metadata": {},
   "outputs": [
    {
     "name": "stdout",
     "output_type": "stream",
     "text": [
      "(50, 6988, 66, 5851, 7946, 367, 2303, 86, 86, 59992, 670, 24030, 10499, 614, 4856, 1931, 8063, 2439, 694, 0, 93154, 579, 42, 123, 10655, 168, 5353, 272, 3867, 14574, 53, 52926, 8082, 1093, 16629, 2317, 12528)\n"
     ]
    }
   ],
   "source": [
    "print(tuples)"
   ]
  },
  {
   "cell_type": "code",
   "execution_count": 24,
   "metadata": {},
   "outputs": [],
   "source": [
    "dictionary = {\"Andaman and Nicobar\":100,\"Andhra Pradesh\":15252,\"Arunachal Pradesh\":195,\"Assam\":8582,\"Bihar\":10249,\"Chandigarh\":446,\"Chhattisgarh\":2940,\"Dadra and Nagar Haveli\":215,\"Delhi\":89802,\"Goa\":1387,\"Gujarat\":33232,\"Haryana\":14941,\"Himachal Pradesh\":979,\"Jammu and kashmir\":7695,\"Jharkhand\":2521,\"Karnataka\":16514,\"Kerala\":4593,\"Ladakh\":990,\"Lakshadweep\":0,\"Maharashtra\":180298,\"Manipur\":1260,\"Meghalaya\":52,\"Mizoram\":160,\"Madhya Pradesh\":13861,\"Nagaland\":459,\"Odisha\":7316,\"Puducherry\":714,\"Punjab\":5668,\"Rajasthan\":18312,\"Sikkim\":101,\"Tamil Nadu\":94049,\"Telengana\":17357,\"Tripura\":1396,\"Uttar Pradesh\":24056,\"Uttarakhand\":2947,\"West Bengal\":19170}"
   ]
  },
  {
   "cell_type": "code",
   "execution_count": 22,
   "metadata": {},
   "outputs": [
    {
     "name": "stdout",
     "output_type": "stream",
     "text": [
      "{'Andaman and Nicobar': 100, 'Andhra Pradesh': 15252, 'Arunachal Pradesh': 195, 'Assam': 8582, 'Bihar': 10249, 'Chandigarh': 446, 'Chhattisgarh': 2940, 'Dadra and Nagar Haveli': 215, 'Delhi': 89802, 'Goa': 1387, 'Gujarat': 33232, 'Haryana': 14941, 'Himachal Pradesh': 979, 'Jammu and kashmir': 7695, 'Jharkhand': 2521, 'Karnataka': 16514, 'Kerala': 4593, 'Ladakh': 990, 'Lakshadweep': 0, 'Maharashtra': 180298, 'Manipur': 1260, 'Meghalaya': 52, 'Mizoram': 160, 'Madhya Pradesh': 13861, 'Nagaland': 459, 'Odisha': 7316, 'Puducherry': 714, 'Punjab': 5668, 'Rajasthan': 18312, 'Sikkim': 101, 'Tamil Nadu': 94049, 'Telengana': 17357, 'Tripura': 1396, 'Uttar Pradesh': 24056, 'Uttarakhand': 2947, 'West Bengal': 19170}\n"
     ]
    }
   ],
   "source": [
    "print(dictionary)"
   ]
  },
  {
   "cell_type": "code",
   "execution_count": null,
   "metadata": {},
   "outputs": [],
   "source": []
  }
 ],
 "metadata": {
  "kernelspec": {
   "display_name": "Python 3",
   "language": "python",
   "name": "python3"
  },
  "language_info": {
   "codemirror_mode": {
    "name": "ipython",
    "version": 3
   },
   "file_extension": ".py",
   "mimetype": "text/x-python",
   "name": "python",
   "nbconvert_exporter": "python",
   "pygments_lexer": "ipython3",
   "version": "3.7.0"
  }
 },
 "nbformat": 4,
 "nbformat_minor": 2
}
